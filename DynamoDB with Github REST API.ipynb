{
 "cells": [
  {
   "cell_type": "code",
   "execution_count": null,
   "id": "ad3c4481",
   "metadata": {},
   "outputs": [],
   "source": [
    "import requests\n",
    "import os\n",
    "import json\n",
    "import boto3\n",
    "\n",
    "os.environ.setdefault('AWS_DEFAULT_REGION','us-east-1')"
   ]
  },
  {
   "cell_type": "code",
   "execution_count": null,
   "id": "dd614076",
   "metadata": {},
   "outputs": [],
   "source": [
    "GITHUB_TOKEN = os.environ.get('GITHUB_TOKEN')\n",
    "\n",
    "def get_repos(since='333255899'):\n",
    "    res = requests.get(\n",
    "        'https://api.github.com/repositories?since=333255899',\n",
    "        headers={'Authorization':'token '+GITHUB_TOKEN}\n",
    "    )\n",
    "    res = res.content.decode('utf-8')\n",
    "    return json.loads(res)\n",
    "    \n",
    "\n",
    "def get_repo_details(owner, repo_name):\n",
    "    res = requests.get(\n",
    "        f'https://api.github.com/repos/{owner}/{repo_name}',\n",
    "        headers={'Authorization':'token '+GITHUB_TOKEN}\n",
    "    )\n",
    "    data = res.content.decode('utf-8')\n",
    "    return json.loads(data)\n",
    "\n",
    "def extract_details(repo_details):\n",
    "    return {\n",
    "        \"id\" : repo_details['id'],\n",
    "        \"node_id\": repo_details['node_id'],\n",
    "        \"name\" : repo_details['name'],\n",
    "        \"full_name\" : repo_details['full_name'],\n",
    "        \"owner\" : {\n",
    "            \"login\" : repo_details['owner']['login'],\n",
    "            \"node_id\" : repo_details['owner']['node_id'],\n",
    "            \"type\" : repo_details['owner']['type'],\n",
    "            \"site_admin\" : repo_details['owner']['site_admin'],\n",
    "        },\n",
    "        \"html_url\" : repo_details['html_url'],\n",
    "        \"description\" : repo_details['description'],\n",
    "        \"fork\" : repo_details['fork'],\n",
    "        \"created_at\" : repo_details['created_at']\n",
    "        \n",
    "    }\n",
    "\n",
    "def construct_repo_records():\n",
    "    repo_records = []\n",
    "    for repo in get_repos():\n",
    "        try:\n",
    "            owner = repo['owner']['login']\n",
    "            name = repo['name']\n",
    "            repo_details = get_repo_details(owner,name)\n",
    "            repo_records.append(extract_details(repo_details))\n",
    "        except:\n",
    "            pass\n",
    "    return repo_records"
   ]
  },
  {
   "cell_type": "code",
   "execution_count": null,
   "id": "2999a2b5",
   "metadata": {},
   "outputs": [],
   "source": [
    "dynamodb = boto3.resource('dynamodb')"
   ]
  },
  {
   "cell_type": "markdown",
   "id": "e322e0e7",
   "metadata": {},
   "source": [
    "#### CRUD operations in DynamoDB"
   ]
  },
  {
   "cell_type": "code",
   "execution_count": null,
   "id": "2850fc6c",
   "metadata": {},
   "outputs": [],
   "source": [
    "employee = dynamodb.create_table(\n",
    "    TableName='employee',\n",
    "    KeySchema=[\n",
    "        {\n",
    "            'AttributeName' : 'eid',\n",
    "            'KeyType' : 'HASH'\n",
    "        }\n",
    "    ],\n",
    "    AttributeDefinitions=[\n",
    "        {\n",
    "            'AttributeName':'eid',\n",
    "            'AttributeType':'N'\n",
    "        }\n",
    "    ],\n",
    "    BillingMode='PAY_PER_REQUEST'\n",
    "    \n",
    ")"
   ]
  },
  {
   "cell_type": "code",
   "execution_count": null,
   "id": "7716f3af",
   "metadata": {},
   "outputs": [],
   "source": [
    "employee.table_status"
   ]
  },
  {
   "cell_type": "code",
   "execution_count": null,
   "id": "3f6bdf4e",
   "metadata": {},
   "outputs": [],
   "source": [
    "table = dynamodb.Table('employee')"
   ]
  },
  {
   "cell_type": "code",
   "execution_count": null,
   "id": "45b225b2",
   "metadata": {},
   "outputs": [],
   "source": [
    "table.table_status"
   ]
  },
  {
   "cell_type": "code",
   "execution_count": null,
   "id": "5f97bc8d",
   "metadata": {},
   "outputs": [],
   "source": [
    "from decimal import Decimal\n",
    "emp1 = {\n",
    "    'eid' : 1,\n",
    "    'fn' : 'Manish',\n",
    "    'ln' : 'Visave',\n",
    "    'pn' : [123455,67899],\n",
    "    'a' : {\n",
    "        'a1':'911 BAKERS STREET',\n",
    "        'c':'ROUND ROCK',\n",
    "        's':'TX',\n",
    "        'pc':'444333'\n",
    "    }\n",
    "}\n",
    "\n",
    "emp2 = {\n",
    "    'eid' : 2,\n",
    "    'fn' : 'Girish',\n",
    "    'ln' : 'Visave',\n",
    "    'pn' : [123455,67899],\n",
    "    'a' : {\n",
    "        'a1':'911 BAKERS STREET',\n",
    "        'c':'ROUND ROCK',\n",
    "        's':'TX',\n",
    "        'pc':'444333'\n",
    "    }\n",
    "}\n",
    "\n",
    "emp3 = {\n",
    "    'eid' : 3,\n",
    "    'fn' : 'Amol',\n",
    "    'ln' : 'Visave',\n",
    "    'sal': Decimal('2000000.0'),\n",
    "    'pn' : [123455,67899],\n",
    "    'a' : {\n",
    "        'a1':'911 BAKERS STREET',\n",
    "        'c':'ROUND ROCK',\n",
    "        's':'TX',\n",
    "        'pc':'444333'\n",
    "    }\n",
    "}"
   ]
  },
  {
   "cell_type": "code",
   "execution_count": null,
   "id": "1564204c",
   "metadata": {},
   "outputs": [],
   "source": [
    "table.put_item(Item=emp1)\n",
    "table.put_item(Item=emp2)\n",
    "table.put_item(Item=emp3)\n"
   ]
  },
  {
   "cell_type": "code",
   "execution_count": null,
   "id": "2c72c4ad",
   "metadata": {},
   "outputs": [],
   "source": [
    "data = table.get_item(Key={'eid':2})['Item']"
   ]
  },
  {
   "cell_type": "code",
   "execution_count": null,
   "id": "70b343eb",
   "metadata": {},
   "outputs": [],
   "source": [
    "data['sal'] = Decimal('7000000.0')"
   ]
  },
  {
   "cell_type": "code",
   "execution_count": null,
   "id": "94ea7961",
   "metadata": {},
   "outputs": [],
   "source": [
    "table.put_item(Item=data)"
   ]
  },
  {
   "cell_type": "code",
   "execution_count": null,
   "id": "3ec1fb08",
   "metadata": {},
   "outputs": [],
   "source": [
    "table.get_item(Key={'eid':2})['Item']"
   ]
  },
  {
   "cell_type": "code",
   "execution_count": null,
   "id": "4426d779",
   "metadata": {},
   "outputs": [],
   "source": [
    "table.scan()['Items']"
   ]
  },
  {
   "cell_type": "code",
   "execution_count": null,
   "id": "6694e140",
   "metadata": {},
   "outputs": [],
   "source": [
    "table.delete_item(Key={'eid':3})"
   ]
  },
  {
   "cell_type": "code",
   "execution_count": null,
   "id": "f00e469c",
   "metadata": {},
   "outputs": [],
   "source": [
    "table.scan()"
   ]
  },
  {
   "cell_type": "code",
   "execution_count": null,
   "id": "b4510a5b",
   "metadata": {},
   "outputs": [],
   "source": [
    "table.delete()"
   ]
  },
  {
   "cell_type": "markdown",
   "id": "c0c13a2f",
   "metadata": {},
   "source": [
    "### Creating tables in DynamoDB"
   ]
  },
  {
   "cell_type": "code",
   "execution_count": null,
   "id": "8530acef",
   "metadata": {},
   "outputs": [],
   "source": [
    "dynamodb.create_table(\n",
    "    TableName='ghrepos',\n",
    "    KeySchema=[\n",
    "        {\n",
    "            'AttributeName':'id',\n",
    "            'KeyType':'HASH'\n",
    "        }\n",
    "    ],\n",
    "    AttributeDefinitions=[\n",
    "        {\n",
    "            'AttributeName':'id',\n",
    "            'AttributeType': 'N'\n",
    "        }\n",
    "    ],\n",
    "    BillingMode='PAY_PER_REQUEST'\n",
    ")"
   ]
  },
  {
   "cell_type": "code",
   "execution_count": null,
   "id": "a67e6432",
   "metadata": {},
   "outputs": [],
   "source": [
    "ghMarker = dynamodb.create_table(\n",
    "    TableName='ghMarker',\n",
    "    KeySchema=[\n",
    "        {\n",
    "            \n",
    "        }\n",
    "    ],\n",
    "    AttributeDefinitions=[\n",
    "        {\n",
    "            \n",
    "        }\n",
    "    ],\n",
    "    BillingMode='PAY_PER_REQUEST'\n",
    ")"
   ]
  },
  {
   "cell_type": "code",
   "execution_count": null,
   "id": "e4430b99",
   "metadata": {},
   "outputs": [],
   "source": [
    "ghrepo_table = dynamodb.Table('ghrepos')"
   ]
  },
  {
   "cell_type": "code",
   "execution_count": null,
   "id": "d1e3b556",
   "metadata": {},
   "outputs": [],
   "source": [
    "ghrepo_table.table_status"
   ]
  },
  {
   "cell_type": "markdown",
   "id": "49fe249b",
   "metadata": {},
   "source": [
    "### Loading data in DynamoDB"
   ]
  },
  {
   "cell_type": "code",
   "execution_count": null,
   "id": "bc02a9a4",
   "metadata": {},
   "outputs": [],
   "source": [
    "def load_data(data, table):\n",
    "    for item in data:\n",
    "        table.put_item(Item=item)"
   ]
  },
  {
   "cell_type": "code",
   "execution_count": null,
   "id": "ea5eebbe",
   "metadata": {},
   "outputs": [],
   "source": [
    "data = construct_repo_records()"
   ]
  },
  {
   "cell_type": "code",
   "execution_count": null,
   "id": "6883caac",
   "metadata": {},
   "outputs": [],
   "source": [
    "len(data)"
   ]
  },
  {
   "cell_type": "code",
   "execution_count": null,
   "id": "8fe1f90b",
   "metadata": {},
   "outputs": [],
   "source": [
    "%%time\n",
    "load_data(data,ghrepo_table)"
   ]
  },
  {
   "cell_type": "code",
   "execution_count": null,
   "id": "8bce01c2",
   "metadata": {},
   "outputs": [],
   "source": [
    "len(ghrepo_table.scan()['Items'])"
   ]
  },
  {
   "cell_type": "code",
   "execution_count": null,
   "id": "84d8238f",
   "metadata": {},
   "outputs": [],
   "source": [
    "ghrepo_table.scan()['Items'][0]"
   ]
  },
  {
   "cell_type": "code",
   "execution_count": null,
   "id": "1ecd03fb",
   "metadata": {},
   "outputs": [],
   "source": [
    "def delete_all_data(item,table):\n",
    "    table.delete_item(Key={'id':item['id']})"
   ]
  },
  {
   "cell_type": "code",
   "execution_count": null,
   "id": "b262b4b1",
   "metadata": {},
   "outputs": [],
   "source": [
    "d = map(lambda x: delete_all_data(x,ghrepo_table),data)"
   ]
  },
  {
   "cell_type": "code",
   "execution_count": null,
   "id": "2b1f850b",
   "metadata": {},
   "outputs": [],
   "source": [
    "d"
   ]
  },
  {
   "cell_type": "code",
   "execution_count": null,
   "id": "5b114997",
   "metadata": {},
   "outputs": [],
   "source": []
  },
  {
   "cell_type": "markdown",
   "id": "b5bb4e6f",
   "metadata": {},
   "source": [
    "### Batch Insert"
   ]
  },
  {
   "cell_type": "code",
   "execution_count": null,
   "id": "f2f0b7b6",
   "metadata": {},
   "outputs": [],
   "source": [
    "%%time\n",
    "data = construct_repo_records()"
   ]
  },
  {
   "cell_type": "code",
   "execution_count": null,
   "id": "65bf7f0c",
   "metadata": {},
   "outputs": [],
   "source": [
    "def batch_insert(data, table, batch_size=50):\n",
    "    with table.batch_writer() as batch:\n",
    "        total = len(data)\n",
    "        for i in range(0, total, batch_size):\n",
    "            batch_data = data[i:i+batch_size]\n",
    "            for repo in batch_data:\n",
    "                batch.put_item(Item=repo)"
   ]
  },
  {
   "cell_type": "code",
   "execution_count": null,
   "id": "096e2eb2",
   "metadata": {},
   "outputs": [],
   "source": [
    "%%time\n",
    "batch_insert(data, ghrepo_table)"
   ]
  },
  {
   "cell_type": "code",
   "execution_count": null,
   "id": "20921e91",
   "metadata": {},
   "outputs": [],
   "source": [
    "def batch_delete(table, batch_size=50):\n",
    "    with table.batch_writer() as batch:\n",
    "        data = table.scan()['Items']\n",
    "        total = len(data)\n",
    "        for i in range(0, total, batch_size):\n",
    "            batch_data = data[i:i+batch_size]\n",
    "            for repo in batch_data:\n",
    "                key = {'id' : repo['id']}\n",
    "                batch.delete_item(Key=key)"
   ]
  },
  {
   "cell_type": "code",
   "execution_count": null,
   "id": "95e1901a",
   "metadata": {},
   "outputs": [],
   "source": [
    "%%time\n",
    "batch_delete(ghrepo_table)"
   ]
  },
  {
   "cell_type": "code",
   "execution_count": null,
   "id": "24d07f22",
   "metadata": {},
   "outputs": [],
   "source": []
  }
 ],
 "metadata": {
  "interpreter": {
   "hash": "e7370f93d1d0cde622a1f8e1c04877d8463912d04d973331ad4851f04de6915a"
  },
  "kernelspec": {
   "display_name": "Python 3.8.10 64-bit",
   "language": "python",
   "name": "python3"
  },
  "language_info": {
   "codemirror_mode": {
    "name": "ipython",
    "version": 3
   },
   "file_extension": ".py",
   "mimetype": "text/x-python",
   "name": "python",
   "nbconvert_exporter": "python",
   "pygments_lexer": "ipython3",
   "version": "3.8.10"
  }
 },
 "nbformat": 4,
 "nbformat_minor": 5
}
